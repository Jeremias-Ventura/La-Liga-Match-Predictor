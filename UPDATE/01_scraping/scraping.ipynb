{
 "cells": [
  {
   "cell_type": "code",
   "execution_count": null,
   "id": "d2b54625-cf92-45a0-a79c-12c8ee9db57f",
   "metadata": {},
   "outputs": [],
   "source": [
    "# For Historical Data (la_liga_history.csv)\n",
    "import requests\n",
    "from bs4 import BeautifulSoup\n",
    "import pandas as pd\n",
    "import time\n",
    "import random\n",
    "\n",
    "# Base URL for La Liga data on Fbref\n",
    "base_url = \"https://fbref.com/en/comps/12\"\n",
    "\n",
    "# Seasons to scrape data for\n",
    "seasons = [\"2023-2024\", \"2022-2023\", \"2021-2022\", \"2020-2021\", \"2019-2020\"]\n",
    "\n",
    "# Headers \n",
    "headers = {\n",
    "    \"User-Agent\": \"Mozilla/5.0 (Windows NT 10.0; Win64; x64) AppleWebKit/537.36 (KHTML, like Gecko) Chrome/114.0.0.0 Safari/537.36\"\n",
    "}\n",
    "\n",
    "all_data = []\n",
    "\n",
    "for season in seasons:\n",
    "    print(f\"Fetching data for season: {season}\")\n",
    "    season_url = f\"{base_url}/{season}/{season}-La-Liga-Stats\"\n",
    "\n",
    "    # Request the page for the season's stats\n",
    "    response = requests.get(season_url, headers=headers)\n",
    "    time.sleep(random.uniform(10, 15)) \n",
    "    soup = BeautifulSoup(response.text, \"html.parser\")\n",
    "\n",
    "    # Find the standings table to extract team links\n",
    "    stats_table = soup.select_one('#stats_squads_standard_for')\n",
    "    if stats_table:\n",
    "        print(f\"Stats table found for {season}!\")\n",
    "        squad_links = stats_table.select('a[href]')\n",
    "        all_shooting_links = []\n",
    "\n",
    "        # Extract links to team shooting stats\n",
    "        for link in squad_links:\n",
    "            href = link.get('href')\n",
    "            if \"/squads/\" in href: \n",
    "                team_id = href.split('/')[3]\n",
    "                team_name = href.split('/')[-1].split('-Stats')[0]\n",
    "                shooting_link = (\n",
    "                    f\"https://fbref.com/en/squads/{team_id}/{season}/matchlogs/c12/shooting/{team_name}-Match-Logs-La-Liga\"\n",
    "                )\n",
    "                all_shooting_links.append((shooting_link, team_name))\n",
    "\n",
    "        # Scrape data from each team's shooting stats page\n",
    "        for shooting_link, team_name in all_shooting_links:\n",
    "            print(f\"Fetching shooting data from: {shooting_link}\")\n",
    "            response = requests.get(shooting_link, headers=headers)\n",
    "            time.sleep(10)  \n",
    "            soup = BeautifulSoup(response.text, \"html.parser\")\n",
    "\n",
    "            # Locate the shooting stats table\n",
    "            shooting_stats = soup.select_one('#matchlogs_for')\n",
    "            if shooting_stats:\n",
    "                try:\n",
    "                   \n",
    "                    df = pd.read_html(str(shooting_stats))[0]\n",
    "\n",
    "                    if isinstance(df.columns, pd.MultiIndex):\n",
    "                        df.columns = [' '.join(col).strip() for col in df.columns]\n",
    "\n",
    "                    # Clean column names\n",
    "                    df.columns = df.columns.str.replace(r'^For [A-Za-zÀ-ÿ\\s\\-]+ ', '', regex=True)\n",
    "                    df.columns = df.columns.str.replace(r'^Standard ', '', regex=True)\n",
    "\n",
    "                    # Map and rename relevant columns\n",
    "                    column_mapping = {\n",
    "                        \"Date\": \"Date\",\n",
    "                        \"Time\": \"Time\",\n",
    "                        \"Round\": \"Round\",\n",
    "                        \"Day\": \"Day\",\n",
    "                        \"Venue\": \"Venue\",\n",
    "                        \"Result\": \"Result\",\n",
    "                        \"GF\": \"GF\",\n",
    "                        \"GA\": \"GA\",\n",
    "                        \"Opponent\": \"Opponent\",\n",
    "                        \"Gls\": \"Gls\",\n",
    "                        \"Sh\": \"Sh\",\n",
    "                        \"SoT\": \"SoT\",\n",
    "                        \"SoT%\": \"SoT%\",\n",
    "                        \"G/Sh\": \"G/Sh\",\n",
    "                        \"G/SoT\": \"G/SoT\",\n",
    "                        \"Dist\": \"Dist\",\n",
    "                        \"FK\": \"FK\",\n",
    "                        \"PK\": \"PK\",\n",
    "                        \"PKatt\": \"PKatt\",\n",
    "                    }\n",
    "                    df = df.rename(columns=column_mapping)\n",
    "\n",
    "                    # Ensure all desired columns are present\n",
    "                    for col in column_mapping.values():\n",
    "                        if col not in df.columns:\n",
    "                            df[col] = None  \n",
    "\n",
    "                    df = df[list(column_mapping.values())]\n",
    "\n",
    "                    df[\"Team\"] = team_name\n",
    "                    df[\"Season\"] = season\n",
    "\n",
    "                    all_data.append(df)\n",
    "\n",
    "                except ValueError as e:\n",
    "                    print(f\"Error reading the table for {team_name}: {e}\")\n",
    "            else:\n",
    "                print(f\"Shooting table NOT found for {team_name} in {season}!\")\n",
    "\n",
    "# Combine all collected data into a single DataFrame\n",
    "if all_data:\n",
    "    combined_df = pd.concat(all_data, ignore_index=True)\n",
    "    print(\"All data combined successfully!\")\n",
    "\n",
    "    desired_columns = ['Team', 'Season', 'Date', 'Time', 'Round', 'Day', 'Venue', 'Result', 'GF', 'GA', 'Opponent', 'Gls', 'Sh', 'SoT', 'SoT%', 'G/Sh', 'G/SoT', 'Dist', 'FK', 'PK', 'PKatt']\n",
    "    combined_df = combined_df[desired_columns]\n",
    "    combined_df = combined_df.drop_duplicates()\n",
    "\n",
    "    combined_df.to_csv(\"la_liga_history.csv\", index=False)\n",
    "    print(\"Success.\")\n",
    "else:\n",
    "    print(\"Error.\")"
   ]
  },
  {
   "cell_type": "code",
   "execution_count": 1,
   "id": "101cb681-b370-4cdb-b4d5-d622ba6fa173",
   "metadata": {},
   "outputs": [
    {
     "name": "stdout",
     "output_type": "stream",
     "text": [
      "Stats table found for 2024-2025!\n",
      "Fetching shooting data from: https://fbref.com/en/squads/8d6fd021/2024-2025/matchlogs/c12/shooting/Alaves-Match-Logs-La-Liga\n"
     ]
    },
    {
     "name": "stderr",
     "output_type": "stream",
     "text": [
      "/var/folders/cb/fcr_jbhj7x9fd02p67m1jzmr0000gn/T/ipykernel_3308/1349482032.py:53: FutureWarning: Passing literal html to 'read_html' is deprecated and will be removed in a future version. To read from a literal string, wrap it in a 'StringIO' object.\n",
      "  df = pd.read_html(str(shooting_stats))[0]\n",
      "/var/folders/cb/fcr_jbhj7x9fd02p67m1jzmr0000gn/T/ipykernel_3308/1349482032.py:99: SettingWithCopyWarning: \n",
      "A value is trying to be set on a copy of a slice from a DataFrame.\n",
      "Try using .loc[row_indexer,col_indexer] = value instead\n",
      "\n",
      "See the caveats in the documentation: https://pandas.pydata.org/pandas-docs/stable/user_guide/indexing.html#returning-a-view-versus-a-copy\n",
      "  filtered_df[\"Team\"] = team_name\n",
      "/var/folders/cb/fcr_jbhj7x9fd02p67m1jzmr0000gn/T/ipykernel_3308/1349482032.py:100: SettingWithCopyWarning: \n",
      "A value is trying to be set on a copy of a slice from a DataFrame.\n",
      "Try using .loc[row_indexer,col_indexer] = value instead\n",
      "\n",
      "See the caveats in the documentation: https://pandas.pydata.org/pandas-docs/stable/user_guide/indexing.html#returning-a-view-versus-a-copy\n",
      "  filtered_df[\"Season\"] = season\n"
     ]
    },
    {
     "name": "stdout",
     "output_type": "stream",
     "text": [
      "Fetching shooting data from: https://fbref.com/en/squads/2b390eca/2024-2025/matchlogs/c12/shooting/Athletic-Club-Match-Logs-La-Liga\n"
     ]
    },
    {
     "name": "stderr",
     "output_type": "stream",
     "text": [
      "/var/folders/cb/fcr_jbhj7x9fd02p67m1jzmr0000gn/T/ipykernel_3308/1349482032.py:53: FutureWarning: Passing literal html to 'read_html' is deprecated and will be removed in a future version. To read from a literal string, wrap it in a 'StringIO' object.\n",
      "  df = pd.read_html(str(shooting_stats))[0]\n",
      "/var/folders/cb/fcr_jbhj7x9fd02p67m1jzmr0000gn/T/ipykernel_3308/1349482032.py:99: SettingWithCopyWarning: \n",
      "A value is trying to be set on a copy of a slice from a DataFrame.\n",
      "Try using .loc[row_indexer,col_indexer] = value instead\n",
      "\n",
      "See the caveats in the documentation: https://pandas.pydata.org/pandas-docs/stable/user_guide/indexing.html#returning-a-view-versus-a-copy\n",
      "  filtered_df[\"Team\"] = team_name\n",
      "/var/folders/cb/fcr_jbhj7x9fd02p67m1jzmr0000gn/T/ipykernel_3308/1349482032.py:100: SettingWithCopyWarning: \n",
      "A value is trying to be set on a copy of a slice from a DataFrame.\n",
      "Try using .loc[row_indexer,col_indexer] = value instead\n",
      "\n",
      "See the caveats in the documentation: https://pandas.pydata.org/pandas-docs/stable/user_guide/indexing.html#returning-a-view-versus-a-copy\n",
      "  filtered_df[\"Season\"] = season\n"
     ]
    },
    {
     "name": "stdout",
     "output_type": "stream",
     "text": [
      "Fetching shooting data from: https://fbref.com/en/squads/db3b9613/2024-2025/matchlogs/c12/shooting/Atletico-Madrid-Match-Logs-La-Liga\n"
     ]
    },
    {
     "name": "stderr",
     "output_type": "stream",
     "text": [
      "/var/folders/cb/fcr_jbhj7x9fd02p67m1jzmr0000gn/T/ipykernel_3308/1349482032.py:53: FutureWarning: Passing literal html to 'read_html' is deprecated and will be removed in a future version. To read from a literal string, wrap it in a 'StringIO' object.\n",
      "  df = pd.read_html(str(shooting_stats))[0]\n",
      "/var/folders/cb/fcr_jbhj7x9fd02p67m1jzmr0000gn/T/ipykernel_3308/1349482032.py:99: SettingWithCopyWarning: \n",
      "A value is trying to be set on a copy of a slice from a DataFrame.\n",
      "Try using .loc[row_indexer,col_indexer] = value instead\n",
      "\n",
      "See the caveats in the documentation: https://pandas.pydata.org/pandas-docs/stable/user_guide/indexing.html#returning-a-view-versus-a-copy\n",
      "  filtered_df[\"Team\"] = team_name\n",
      "/var/folders/cb/fcr_jbhj7x9fd02p67m1jzmr0000gn/T/ipykernel_3308/1349482032.py:100: SettingWithCopyWarning: \n",
      "A value is trying to be set on a copy of a slice from a DataFrame.\n",
      "Try using .loc[row_indexer,col_indexer] = value instead\n",
      "\n",
      "See the caveats in the documentation: https://pandas.pydata.org/pandas-docs/stable/user_guide/indexing.html#returning-a-view-versus-a-copy\n",
      "  filtered_df[\"Season\"] = season\n"
     ]
    },
    {
     "name": "stdout",
     "output_type": "stream",
     "text": [
      "Fetching shooting data from: https://fbref.com/en/squads/206d90db/2024-2025/matchlogs/c12/shooting/Barcelona-Match-Logs-La-Liga\n"
     ]
    },
    {
     "name": "stderr",
     "output_type": "stream",
     "text": [
      "/var/folders/cb/fcr_jbhj7x9fd02p67m1jzmr0000gn/T/ipykernel_3308/1349482032.py:53: FutureWarning: Passing literal html to 'read_html' is deprecated and will be removed in a future version. To read from a literal string, wrap it in a 'StringIO' object.\n",
      "  df = pd.read_html(str(shooting_stats))[0]\n",
      "/var/folders/cb/fcr_jbhj7x9fd02p67m1jzmr0000gn/T/ipykernel_3308/1349482032.py:99: SettingWithCopyWarning: \n",
      "A value is trying to be set on a copy of a slice from a DataFrame.\n",
      "Try using .loc[row_indexer,col_indexer] = value instead\n",
      "\n",
      "See the caveats in the documentation: https://pandas.pydata.org/pandas-docs/stable/user_guide/indexing.html#returning-a-view-versus-a-copy\n",
      "  filtered_df[\"Team\"] = team_name\n",
      "/var/folders/cb/fcr_jbhj7x9fd02p67m1jzmr0000gn/T/ipykernel_3308/1349482032.py:100: SettingWithCopyWarning: \n",
      "A value is trying to be set on a copy of a slice from a DataFrame.\n",
      "Try using .loc[row_indexer,col_indexer] = value instead\n",
      "\n",
      "See the caveats in the documentation: https://pandas.pydata.org/pandas-docs/stable/user_guide/indexing.html#returning-a-view-versus-a-copy\n",
      "  filtered_df[\"Season\"] = season\n"
     ]
    },
    {
     "name": "stdout",
     "output_type": "stream",
     "text": [
      "Fetching shooting data from: https://fbref.com/en/squads/fc536746/2024-2025/matchlogs/c12/shooting/Real-Betis-Match-Logs-La-Liga\n"
     ]
    },
    {
     "name": "stderr",
     "output_type": "stream",
     "text": [
      "/var/folders/cb/fcr_jbhj7x9fd02p67m1jzmr0000gn/T/ipykernel_3308/1349482032.py:53: FutureWarning: Passing literal html to 'read_html' is deprecated and will be removed in a future version. To read from a literal string, wrap it in a 'StringIO' object.\n",
      "  df = pd.read_html(str(shooting_stats))[0]\n",
      "/var/folders/cb/fcr_jbhj7x9fd02p67m1jzmr0000gn/T/ipykernel_3308/1349482032.py:99: SettingWithCopyWarning: \n",
      "A value is trying to be set on a copy of a slice from a DataFrame.\n",
      "Try using .loc[row_indexer,col_indexer] = value instead\n",
      "\n",
      "See the caveats in the documentation: https://pandas.pydata.org/pandas-docs/stable/user_guide/indexing.html#returning-a-view-versus-a-copy\n",
      "  filtered_df[\"Team\"] = team_name\n",
      "/var/folders/cb/fcr_jbhj7x9fd02p67m1jzmr0000gn/T/ipykernel_3308/1349482032.py:100: SettingWithCopyWarning: \n",
      "A value is trying to be set on a copy of a slice from a DataFrame.\n",
      "Try using .loc[row_indexer,col_indexer] = value instead\n",
      "\n",
      "See the caveats in the documentation: https://pandas.pydata.org/pandas-docs/stable/user_guide/indexing.html#returning-a-view-versus-a-copy\n",
      "  filtered_df[\"Season\"] = season\n"
     ]
    },
    {
     "name": "stdout",
     "output_type": "stream",
     "text": [
      "Fetching shooting data from: https://fbref.com/en/squads/f25da7fb/2024-2025/matchlogs/c12/shooting/Celta-Vigo-Match-Logs-La-Liga\n"
     ]
    },
    {
     "name": "stderr",
     "output_type": "stream",
     "text": [
      "/var/folders/cb/fcr_jbhj7x9fd02p67m1jzmr0000gn/T/ipykernel_3308/1349482032.py:53: FutureWarning: Passing literal html to 'read_html' is deprecated and will be removed in a future version. To read from a literal string, wrap it in a 'StringIO' object.\n",
      "  df = pd.read_html(str(shooting_stats))[0]\n",
      "/var/folders/cb/fcr_jbhj7x9fd02p67m1jzmr0000gn/T/ipykernel_3308/1349482032.py:99: SettingWithCopyWarning: \n",
      "A value is trying to be set on a copy of a slice from a DataFrame.\n",
      "Try using .loc[row_indexer,col_indexer] = value instead\n",
      "\n",
      "See the caveats in the documentation: https://pandas.pydata.org/pandas-docs/stable/user_guide/indexing.html#returning-a-view-versus-a-copy\n",
      "  filtered_df[\"Team\"] = team_name\n",
      "/var/folders/cb/fcr_jbhj7x9fd02p67m1jzmr0000gn/T/ipykernel_3308/1349482032.py:100: SettingWithCopyWarning: \n",
      "A value is trying to be set on a copy of a slice from a DataFrame.\n",
      "Try using .loc[row_indexer,col_indexer] = value instead\n",
      "\n",
      "See the caveats in the documentation: https://pandas.pydata.org/pandas-docs/stable/user_guide/indexing.html#returning-a-view-versus-a-copy\n",
      "  filtered_df[\"Season\"] = season\n"
     ]
    },
    {
     "name": "stdout",
     "output_type": "stream",
     "text": [
      "Fetching shooting data from: https://fbref.com/en/squads/a8661628/2024-2025/matchlogs/c12/shooting/Espanyol-Match-Logs-La-Liga\n"
     ]
    },
    {
     "name": "stderr",
     "output_type": "stream",
     "text": [
      "/var/folders/cb/fcr_jbhj7x9fd02p67m1jzmr0000gn/T/ipykernel_3308/1349482032.py:53: FutureWarning: Passing literal html to 'read_html' is deprecated and will be removed in a future version. To read from a literal string, wrap it in a 'StringIO' object.\n",
      "  df = pd.read_html(str(shooting_stats))[0]\n",
      "/var/folders/cb/fcr_jbhj7x9fd02p67m1jzmr0000gn/T/ipykernel_3308/1349482032.py:99: SettingWithCopyWarning: \n",
      "A value is trying to be set on a copy of a slice from a DataFrame.\n",
      "Try using .loc[row_indexer,col_indexer] = value instead\n",
      "\n",
      "See the caveats in the documentation: https://pandas.pydata.org/pandas-docs/stable/user_guide/indexing.html#returning-a-view-versus-a-copy\n",
      "  filtered_df[\"Team\"] = team_name\n",
      "/var/folders/cb/fcr_jbhj7x9fd02p67m1jzmr0000gn/T/ipykernel_3308/1349482032.py:100: SettingWithCopyWarning: \n",
      "A value is trying to be set on a copy of a slice from a DataFrame.\n",
      "Try using .loc[row_indexer,col_indexer] = value instead\n",
      "\n",
      "See the caveats in the documentation: https://pandas.pydata.org/pandas-docs/stable/user_guide/indexing.html#returning-a-view-versus-a-copy\n",
      "  filtered_df[\"Season\"] = season\n"
     ]
    },
    {
     "name": "stdout",
     "output_type": "stream",
     "text": [
      "Fetching shooting data from: https://fbref.com/en/squads/7848bd64/2024-2025/matchlogs/c12/shooting/Getafe-Match-Logs-La-Liga\n"
     ]
    },
    {
     "name": "stderr",
     "output_type": "stream",
     "text": [
      "/var/folders/cb/fcr_jbhj7x9fd02p67m1jzmr0000gn/T/ipykernel_3308/1349482032.py:53: FutureWarning: Passing literal html to 'read_html' is deprecated and will be removed in a future version. To read from a literal string, wrap it in a 'StringIO' object.\n",
      "  df = pd.read_html(str(shooting_stats))[0]\n",
      "/var/folders/cb/fcr_jbhj7x9fd02p67m1jzmr0000gn/T/ipykernel_3308/1349482032.py:99: SettingWithCopyWarning: \n",
      "A value is trying to be set on a copy of a slice from a DataFrame.\n",
      "Try using .loc[row_indexer,col_indexer] = value instead\n",
      "\n",
      "See the caveats in the documentation: https://pandas.pydata.org/pandas-docs/stable/user_guide/indexing.html#returning-a-view-versus-a-copy\n",
      "  filtered_df[\"Team\"] = team_name\n",
      "/var/folders/cb/fcr_jbhj7x9fd02p67m1jzmr0000gn/T/ipykernel_3308/1349482032.py:100: SettingWithCopyWarning: \n",
      "A value is trying to be set on a copy of a slice from a DataFrame.\n",
      "Try using .loc[row_indexer,col_indexer] = value instead\n",
      "\n",
      "See the caveats in the documentation: https://pandas.pydata.org/pandas-docs/stable/user_guide/indexing.html#returning-a-view-versus-a-copy\n",
      "  filtered_df[\"Season\"] = season\n"
     ]
    },
    {
     "name": "stdout",
     "output_type": "stream",
     "text": [
      "Fetching shooting data from: https://fbref.com/en/squads/9024a00a/2024-2025/matchlogs/c12/shooting/Girona-Match-Logs-La-Liga\n"
     ]
    },
    {
     "name": "stderr",
     "output_type": "stream",
     "text": [
      "/var/folders/cb/fcr_jbhj7x9fd02p67m1jzmr0000gn/T/ipykernel_3308/1349482032.py:53: FutureWarning: Passing literal html to 'read_html' is deprecated and will be removed in a future version. To read from a literal string, wrap it in a 'StringIO' object.\n",
      "  df = pd.read_html(str(shooting_stats))[0]\n",
      "/var/folders/cb/fcr_jbhj7x9fd02p67m1jzmr0000gn/T/ipykernel_3308/1349482032.py:99: SettingWithCopyWarning: \n",
      "A value is trying to be set on a copy of a slice from a DataFrame.\n",
      "Try using .loc[row_indexer,col_indexer] = value instead\n",
      "\n",
      "See the caveats in the documentation: https://pandas.pydata.org/pandas-docs/stable/user_guide/indexing.html#returning-a-view-versus-a-copy\n",
      "  filtered_df[\"Team\"] = team_name\n",
      "/var/folders/cb/fcr_jbhj7x9fd02p67m1jzmr0000gn/T/ipykernel_3308/1349482032.py:100: SettingWithCopyWarning: \n",
      "A value is trying to be set on a copy of a slice from a DataFrame.\n",
      "Try using .loc[row_indexer,col_indexer] = value instead\n",
      "\n",
      "See the caveats in the documentation: https://pandas.pydata.org/pandas-docs/stable/user_guide/indexing.html#returning-a-view-versus-a-copy\n",
      "  filtered_df[\"Season\"] = season\n"
     ]
    },
    {
     "name": "stdout",
     "output_type": "stream",
     "text": [
      "Fetching shooting data from: https://fbref.com/en/squads/0049d422/2024-2025/matchlogs/c12/shooting/Las-Palmas-Match-Logs-La-Liga\n"
     ]
    },
    {
     "name": "stderr",
     "output_type": "stream",
     "text": [
      "/var/folders/cb/fcr_jbhj7x9fd02p67m1jzmr0000gn/T/ipykernel_3308/1349482032.py:53: FutureWarning: Passing literal html to 'read_html' is deprecated and will be removed in a future version. To read from a literal string, wrap it in a 'StringIO' object.\n",
      "  df = pd.read_html(str(shooting_stats))[0]\n",
      "/var/folders/cb/fcr_jbhj7x9fd02p67m1jzmr0000gn/T/ipykernel_3308/1349482032.py:99: SettingWithCopyWarning: \n",
      "A value is trying to be set on a copy of a slice from a DataFrame.\n",
      "Try using .loc[row_indexer,col_indexer] = value instead\n",
      "\n",
      "See the caveats in the documentation: https://pandas.pydata.org/pandas-docs/stable/user_guide/indexing.html#returning-a-view-versus-a-copy\n",
      "  filtered_df[\"Team\"] = team_name\n",
      "/var/folders/cb/fcr_jbhj7x9fd02p67m1jzmr0000gn/T/ipykernel_3308/1349482032.py:100: SettingWithCopyWarning: \n",
      "A value is trying to be set on a copy of a slice from a DataFrame.\n",
      "Try using .loc[row_indexer,col_indexer] = value instead\n",
      "\n",
      "See the caveats in the documentation: https://pandas.pydata.org/pandas-docs/stable/user_guide/indexing.html#returning-a-view-versus-a-copy\n",
      "  filtered_df[\"Season\"] = season\n"
     ]
    },
    {
     "name": "stdout",
     "output_type": "stream",
     "text": [
      "Fetching shooting data from: https://fbref.com/en/squads/7c6f2c78/2024-2025/matchlogs/c12/shooting/Leganes-Match-Logs-La-Liga\n"
     ]
    },
    {
     "name": "stderr",
     "output_type": "stream",
     "text": [
      "/var/folders/cb/fcr_jbhj7x9fd02p67m1jzmr0000gn/T/ipykernel_3308/1349482032.py:53: FutureWarning: Passing literal html to 'read_html' is deprecated and will be removed in a future version. To read from a literal string, wrap it in a 'StringIO' object.\n",
      "  df = pd.read_html(str(shooting_stats))[0]\n",
      "/var/folders/cb/fcr_jbhj7x9fd02p67m1jzmr0000gn/T/ipykernel_3308/1349482032.py:99: SettingWithCopyWarning: \n",
      "A value is trying to be set on a copy of a slice from a DataFrame.\n",
      "Try using .loc[row_indexer,col_indexer] = value instead\n",
      "\n",
      "See the caveats in the documentation: https://pandas.pydata.org/pandas-docs/stable/user_guide/indexing.html#returning-a-view-versus-a-copy\n",
      "  filtered_df[\"Team\"] = team_name\n",
      "/var/folders/cb/fcr_jbhj7x9fd02p67m1jzmr0000gn/T/ipykernel_3308/1349482032.py:100: SettingWithCopyWarning: \n",
      "A value is trying to be set on a copy of a slice from a DataFrame.\n",
      "Try using .loc[row_indexer,col_indexer] = value instead\n",
      "\n",
      "See the caveats in the documentation: https://pandas.pydata.org/pandas-docs/stable/user_guide/indexing.html#returning-a-view-versus-a-copy\n",
      "  filtered_df[\"Season\"] = season\n"
     ]
    },
    {
     "name": "stdout",
     "output_type": "stream",
     "text": [
      "Fetching shooting data from: https://fbref.com/en/squads/2aa12281/2024-2025/matchlogs/c12/shooting/Mallorca-Match-Logs-La-Liga\n"
     ]
    },
    {
     "name": "stderr",
     "output_type": "stream",
     "text": [
      "/var/folders/cb/fcr_jbhj7x9fd02p67m1jzmr0000gn/T/ipykernel_3308/1349482032.py:53: FutureWarning: Passing literal html to 'read_html' is deprecated and will be removed in a future version. To read from a literal string, wrap it in a 'StringIO' object.\n",
      "  df = pd.read_html(str(shooting_stats))[0]\n",
      "/var/folders/cb/fcr_jbhj7x9fd02p67m1jzmr0000gn/T/ipykernel_3308/1349482032.py:99: SettingWithCopyWarning: \n",
      "A value is trying to be set on a copy of a slice from a DataFrame.\n",
      "Try using .loc[row_indexer,col_indexer] = value instead\n",
      "\n",
      "See the caveats in the documentation: https://pandas.pydata.org/pandas-docs/stable/user_guide/indexing.html#returning-a-view-versus-a-copy\n",
      "  filtered_df[\"Team\"] = team_name\n",
      "/var/folders/cb/fcr_jbhj7x9fd02p67m1jzmr0000gn/T/ipykernel_3308/1349482032.py:100: SettingWithCopyWarning: \n",
      "A value is trying to be set on a copy of a slice from a DataFrame.\n",
      "Try using .loc[row_indexer,col_indexer] = value instead\n",
      "\n",
      "See the caveats in the documentation: https://pandas.pydata.org/pandas-docs/stable/user_guide/indexing.html#returning-a-view-versus-a-copy\n",
      "  filtered_df[\"Season\"] = season\n"
     ]
    },
    {
     "name": "stdout",
     "output_type": "stream",
     "text": [
      "Fetching shooting data from: https://fbref.com/en/squads/03c57e2b/2024-2025/matchlogs/c12/shooting/Osasuna-Match-Logs-La-Liga\n"
     ]
    },
    {
     "name": "stderr",
     "output_type": "stream",
     "text": [
      "/var/folders/cb/fcr_jbhj7x9fd02p67m1jzmr0000gn/T/ipykernel_3308/1349482032.py:53: FutureWarning: Passing literal html to 'read_html' is deprecated and will be removed in a future version. To read from a literal string, wrap it in a 'StringIO' object.\n",
      "  df = pd.read_html(str(shooting_stats))[0]\n",
      "/var/folders/cb/fcr_jbhj7x9fd02p67m1jzmr0000gn/T/ipykernel_3308/1349482032.py:99: SettingWithCopyWarning: \n",
      "A value is trying to be set on a copy of a slice from a DataFrame.\n",
      "Try using .loc[row_indexer,col_indexer] = value instead\n",
      "\n",
      "See the caveats in the documentation: https://pandas.pydata.org/pandas-docs/stable/user_guide/indexing.html#returning-a-view-versus-a-copy\n",
      "  filtered_df[\"Team\"] = team_name\n",
      "/var/folders/cb/fcr_jbhj7x9fd02p67m1jzmr0000gn/T/ipykernel_3308/1349482032.py:100: SettingWithCopyWarning: \n",
      "A value is trying to be set on a copy of a slice from a DataFrame.\n",
      "Try using .loc[row_indexer,col_indexer] = value instead\n",
      "\n",
      "See the caveats in the documentation: https://pandas.pydata.org/pandas-docs/stable/user_guide/indexing.html#returning-a-view-versus-a-copy\n",
      "  filtered_df[\"Season\"] = season\n"
     ]
    },
    {
     "name": "stdout",
     "output_type": "stream",
     "text": [
      "Fetching shooting data from: https://fbref.com/en/squads/98e8af82/2024-2025/matchlogs/c12/shooting/Rayo-Vallecano-Match-Logs-La-Liga\n"
     ]
    },
    {
     "name": "stderr",
     "output_type": "stream",
     "text": [
      "/var/folders/cb/fcr_jbhj7x9fd02p67m1jzmr0000gn/T/ipykernel_3308/1349482032.py:53: FutureWarning: Passing literal html to 'read_html' is deprecated and will be removed in a future version. To read from a literal string, wrap it in a 'StringIO' object.\n",
      "  df = pd.read_html(str(shooting_stats))[0]\n",
      "/var/folders/cb/fcr_jbhj7x9fd02p67m1jzmr0000gn/T/ipykernel_3308/1349482032.py:99: SettingWithCopyWarning: \n",
      "A value is trying to be set on a copy of a slice from a DataFrame.\n",
      "Try using .loc[row_indexer,col_indexer] = value instead\n",
      "\n",
      "See the caveats in the documentation: https://pandas.pydata.org/pandas-docs/stable/user_guide/indexing.html#returning-a-view-versus-a-copy\n",
      "  filtered_df[\"Team\"] = team_name\n",
      "/var/folders/cb/fcr_jbhj7x9fd02p67m1jzmr0000gn/T/ipykernel_3308/1349482032.py:100: SettingWithCopyWarning: \n",
      "A value is trying to be set on a copy of a slice from a DataFrame.\n",
      "Try using .loc[row_indexer,col_indexer] = value instead\n",
      "\n",
      "See the caveats in the documentation: https://pandas.pydata.org/pandas-docs/stable/user_guide/indexing.html#returning-a-view-versus-a-copy\n",
      "  filtered_df[\"Season\"] = season\n"
     ]
    },
    {
     "name": "stdout",
     "output_type": "stream",
     "text": [
      "Fetching shooting data from: https://fbref.com/en/squads/53a2f082/2024-2025/matchlogs/c12/shooting/Real-Madrid-Match-Logs-La-Liga\n"
     ]
    },
    {
     "name": "stderr",
     "output_type": "stream",
     "text": [
      "/var/folders/cb/fcr_jbhj7x9fd02p67m1jzmr0000gn/T/ipykernel_3308/1349482032.py:53: FutureWarning: Passing literal html to 'read_html' is deprecated and will be removed in a future version. To read from a literal string, wrap it in a 'StringIO' object.\n",
      "  df = pd.read_html(str(shooting_stats))[0]\n",
      "/var/folders/cb/fcr_jbhj7x9fd02p67m1jzmr0000gn/T/ipykernel_3308/1349482032.py:99: SettingWithCopyWarning: \n",
      "A value is trying to be set on a copy of a slice from a DataFrame.\n",
      "Try using .loc[row_indexer,col_indexer] = value instead\n",
      "\n",
      "See the caveats in the documentation: https://pandas.pydata.org/pandas-docs/stable/user_guide/indexing.html#returning-a-view-versus-a-copy\n",
      "  filtered_df[\"Team\"] = team_name\n",
      "/var/folders/cb/fcr_jbhj7x9fd02p67m1jzmr0000gn/T/ipykernel_3308/1349482032.py:100: SettingWithCopyWarning: \n",
      "A value is trying to be set on a copy of a slice from a DataFrame.\n",
      "Try using .loc[row_indexer,col_indexer] = value instead\n",
      "\n",
      "See the caveats in the documentation: https://pandas.pydata.org/pandas-docs/stable/user_guide/indexing.html#returning-a-view-versus-a-copy\n",
      "  filtered_df[\"Season\"] = season\n"
     ]
    },
    {
     "name": "stdout",
     "output_type": "stream",
     "text": [
      "Fetching shooting data from: https://fbref.com/en/squads/e31d1cd9/2024-2025/matchlogs/c12/shooting/Real-Sociedad-Match-Logs-La-Liga\n"
     ]
    },
    {
     "name": "stderr",
     "output_type": "stream",
     "text": [
      "/var/folders/cb/fcr_jbhj7x9fd02p67m1jzmr0000gn/T/ipykernel_3308/1349482032.py:53: FutureWarning: Passing literal html to 'read_html' is deprecated and will be removed in a future version. To read from a literal string, wrap it in a 'StringIO' object.\n",
      "  df = pd.read_html(str(shooting_stats))[0]\n",
      "/var/folders/cb/fcr_jbhj7x9fd02p67m1jzmr0000gn/T/ipykernel_3308/1349482032.py:99: SettingWithCopyWarning: \n",
      "A value is trying to be set on a copy of a slice from a DataFrame.\n",
      "Try using .loc[row_indexer,col_indexer] = value instead\n",
      "\n",
      "See the caveats in the documentation: https://pandas.pydata.org/pandas-docs/stable/user_guide/indexing.html#returning-a-view-versus-a-copy\n",
      "  filtered_df[\"Team\"] = team_name\n",
      "/var/folders/cb/fcr_jbhj7x9fd02p67m1jzmr0000gn/T/ipykernel_3308/1349482032.py:100: SettingWithCopyWarning: \n",
      "A value is trying to be set on a copy of a slice from a DataFrame.\n",
      "Try using .loc[row_indexer,col_indexer] = value instead\n",
      "\n",
      "See the caveats in the documentation: https://pandas.pydata.org/pandas-docs/stable/user_guide/indexing.html#returning-a-view-versus-a-copy\n",
      "  filtered_df[\"Season\"] = season\n"
     ]
    },
    {
     "name": "stdout",
     "output_type": "stream",
     "text": [
      "Fetching shooting data from: https://fbref.com/en/squads/ad2be733/2024-2025/matchlogs/c12/shooting/Sevilla-Match-Logs-La-Liga\n"
     ]
    },
    {
     "name": "stderr",
     "output_type": "stream",
     "text": [
      "/var/folders/cb/fcr_jbhj7x9fd02p67m1jzmr0000gn/T/ipykernel_3308/1349482032.py:53: FutureWarning: Passing literal html to 'read_html' is deprecated and will be removed in a future version. To read from a literal string, wrap it in a 'StringIO' object.\n",
      "  df = pd.read_html(str(shooting_stats))[0]\n",
      "/var/folders/cb/fcr_jbhj7x9fd02p67m1jzmr0000gn/T/ipykernel_3308/1349482032.py:99: SettingWithCopyWarning: \n",
      "A value is trying to be set on a copy of a slice from a DataFrame.\n",
      "Try using .loc[row_indexer,col_indexer] = value instead\n",
      "\n",
      "See the caveats in the documentation: https://pandas.pydata.org/pandas-docs/stable/user_guide/indexing.html#returning-a-view-versus-a-copy\n",
      "  filtered_df[\"Team\"] = team_name\n",
      "/var/folders/cb/fcr_jbhj7x9fd02p67m1jzmr0000gn/T/ipykernel_3308/1349482032.py:100: SettingWithCopyWarning: \n",
      "A value is trying to be set on a copy of a slice from a DataFrame.\n",
      "Try using .loc[row_indexer,col_indexer] = value instead\n",
      "\n",
      "See the caveats in the documentation: https://pandas.pydata.org/pandas-docs/stable/user_guide/indexing.html#returning-a-view-versus-a-copy\n",
      "  filtered_df[\"Season\"] = season\n"
     ]
    },
    {
     "name": "stdout",
     "output_type": "stream",
     "text": [
      "Fetching shooting data from: https://fbref.com/en/squads/dcc91a7b/2024-2025/matchlogs/c12/shooting/Valencia-Match-Logs-La-Liga\n"
     ]
    },
    {
     "name": "stderr",
     "output_type": "stream",
     "text": [
      "/var/folders/cb/fcr_jbhj7x9fd02p67m1jzmr0000gn/T/ipykernel_3308/1349482032.py:53: FutureWarning: Passing literal html to 'read_html' is deprecated and will be removed in a future version. To read from a literal string, wrap it in a 'StringIO' object.\n",
      "  df = pd.read_html(str(shooting_stats))[0]\n",
      "/var/folders/cb/fcr_jbhj7x9fd02p67m1jzmr0000gn/T/ipykernel_3308/1349482032.py:99: SettingWithCopyWarning: \n",
      "A value is trying to be set on a copy of a slice from a DataFrame.\n",
      "Try using .loc[row_indexer,col_indexer] = value instead\n",
      "\n",
      "See the caveats in the documentation: https://pandas.pydata.org/pandas-docs/stable/user_guide/indexing.html#returning-a-view-versus-a-copy\n",
      "  filtered_df[\"Team\"] = team_name\n",
      "/var/folders/cb/fcr_jbhj7x9fd02p67m1jzmr0000gn/T/ipykernel_3308/1349482032.py:100: SettingWithCopyWarning: \n",
      "A value is trying to be set on a copy of a slice from a DataFrame.\n",
      "Try using .loc[row_indexer,col_indexer] = value instead\n",
      "\n",
      "See the caveats in the documentation: https://pandas.pydata.org/pandas-docs/stable/user_guide/indexing.html#returning-a-view-versus-a-copy\n",
      "  filtered_df[\"Season\"] = season\n"
     ]
    },
    {
     "name": "stdout",
     "output_type": "stream",
     "text": [
      "Fetching shooting data from: https://fbref.com/en/squads/17859612/2024-2025/matchlogs/c12/shooting/Valladolid-Match-Logs-La-Liga\n"
     ]
    },
    {
     "name": "stderr",
     "output_type": "stream",
     "text": [
      "/var/folders/cb/fcr_jbhj7x9fd02p67m1jzmr0000gn/T/ipykernel_3308/1349482032.py:53: FutureWarning: Passing literal html to 'read_html' is deprecated and will be removed in a future version. To read from a literal string, wrap it in a 'StringIO' object.\n",
      "  df = pd.read_html(str(shooting_stats))[0]\n",
      "/var/folders/cb/fcr_jbhj7x9fd02p67m1jzmr0000gn/T/ipykernel_3308/1349482032.py:99: SettingWithCopyWarning: \n",
      "A value is trying to be set on a copy of a slice from a DataFrame.\n",
      "Try using .loc[row_indexer,col_indexer] = value instead\n",
      "\n",
      "See the caveats in the documentation: https://pandas.pydata.org/pandas-docs/stable/user_guide/indexing.html#returning-a-view-versus-a-copy\n",
      "  filtered_df[\"Team\"] = team_name\n",
      "/var/folders/cb/fcr_jbhj7x9fd02p67m1jzmr0000gn/T/ipykernel_3308/1349482032.py:100: SettingWithCopyWarning: \n",
      "A value is trying to be set on a copy of a slice from a DataFrame.\n",
      "Try using .loc[row_indexer,col_indexer] = value instead\n",
      "\n",
      "See the caveats in the documentation: https://pandas.pydata.org/pandas-docs/stable/user_guide/indexing.html#returning-a-view-versus-a-copy\n",
      "  filtered_df[\"Season\"] = season\n"
     ]
    },
    {
     "name": "stdout",
     "output_type": "stream",
     "text": [
      "Fetching shooting data from: https://fbref.com/en/squads/2a8183b3/2024-2025/matchlogs/c12/shooting/Villarreal-Match-Logs-La-Liga\n",
      "All data combined successfully!\n",
      "Success.\n"
     ]
    },
    {
     "name": "stderr",
     "output_type": "stream",
     "text": [
      "/var/folders/cb/fcr_jbhj7x9fd02p67m1jzmr0000gn/T/ipykernel_3308/1349482032.py:53: FutureWarning: Passing literal html to 'read_html' is deprecated and will be removed in a future version. To read from a literal string, wrap it in a 'StringIO' object.\n",
      "  df = pd.read_html(str(shooting_stats))[0]\n",
      "/var/folders/cb/fcr_jbhj7x9fd02p67m1jzmr0000gn/T/ipykernel_3308/1349482032.py:99: SettingWithCopyWarning: \n",
      "A value is trying to be set on a copy of a slice from a DataFrame.\n",
      "Try using .loc[row_indexer,col_indexer] = value instead\n",
      "\n",
      "See the caveats in the documentation: https://pandas.pydata.org/pandas-docs/stable/user_guide/indexing.html#returning-a-view-versus-a-copy\n",
      "  filtered_df[\"Team\"] = team_name\n",
      "/var/folders/cb/fcr_jbhj7x9fd02p67m1jzmr0000gn/T/ipykernel_3308/1349482032.py:100: SettingWithCopyWarning: \n",
      "A value is trying to be set on a copy of a slice from a DataFrame.\n",
      "Try using .loc[row_indexer,col_indexer] = value instead\n",
      "\n",
      "See the caveats in the documentation: https://pandas.pydata.org/pandas-docs/stable/user_guide/indexing.html#returning-a-view-versus-a-copy\n",
      "  filtered_df[\"Season\"] = season\n"
     ]
    }
   ],
   "source": [
    "# For recent data (recent_la_liga.csv)\n",
    "import requests\n",
    "from bs4 import BeautifulSoup\n",
    "import pandas as pd\n",
    "import time\n",
    "\n",
    "# URL for La Liga 24/25 fixtures\n",
    "url = \"https://fbref.com/en/comps/12/2024-2025/2024-2025-La-Liga-Stats\"\n",
    "\n",
    "# Headers\n",
    "headers = {\n",
    "    \"User-Agent\": \"Mozilla/5.0 (Windows NT 10.0; Win64; x64) AppleWebKit/537.36 (KHTML, like Gecko) Chrome/114.0.0.0 Safari/537.36\"\n",
    "}\n",
    "\n",
    "# Request and parse the page\n",
    "response = requests.get(url, headers=headers)\n",
    "time.sleep(5)  # Avoid hitting rate limits\n",
    "soup = BeautifulSoup(response.text, \"html.parser\")\n",
    "\n",
    "# Initialize data storage\n",
    "all_data = []\n",
    "season = \"2024-2025\"  # Define the season\n",
    "\n",
    "# Find the standings table to extract team links\n",
    "stats_table = soup.select_one('#stats_squads_standard_for')\n",
    "if stats_table:\n",
    "    print(f\"Stats table found for {season}!\")\n",
    "    squad_links = stats_table.select('a[href]')\n",
    "    all_shooting_links = []\n",
    "\n",
    "    # Extract links to team shooting stats\n",
    "    for link in squad_links:\n",
    "        href = link.get('href')\n",
    "        if \"/squads/\" in href: \n",
    "            team_id = href.split('/')[3]\n",
    "            team_name = href.split('/')[-1].split('-Stats')[0]\n",
    "            shooting_link = (\n",
    "                f\"https://fbref.com/en/squads/{team_id}/{season}/matchlogs/c12/shooting/{team_name}-Match-Logs-La-Liga\"\n",
    "            )\n",
    "            all_shooting_links.append((shooting_link, team_name))\n",
    "\n",
    "    # Scrape data from each team's shooting stats page\n",
    "    for shooting_link, team_name in all_shooting_links:\n",
    "        print(f\"Fetching shooting data from: {shooting_link}\")\n",
    "        response = requests.get(shooting_link, headers=headers)\n",
    "        time.sleep(10)  \n",
    "        soup = BeautifulSoup(response.text, \"html.parser\")\n",
    "\n",
    "        # Locate the shooting stats table\n",
    "        shooting_stats = soup.select_one('#matchlogs_for')\n",
    "        if shooting_stats:\n",
    "            try:\n",
    "                df = pd.read_html(str(shooting_stats))[0]\n",
    "\n",
    "                # Clean column names\n",
    "                if isinstance(df.columns, pd.MultiIndex):\n",
    "                    df.columns = [' '.join(col).strip() for col in df.columns]\n",
    "\n",
    "                df.columns = df.columns.str.replace(r'^For [A-Za-zÀ-ÿ\\s\\-]+ ', '', regex=True)\n",
    "                df.columns = df.columns.str.replace(r'^Standard ', '', regex=True)\n",
    "\n",
    "                # Map and rename relevant columns\n",
    "                column_mapping = {\n",
    "                    \"Date\": \"Date\",\n",
    "                    \"Time\": \"Time\",\n",
    "                    \"Round\": \"Round\",\n",
    "                    \"Day\": \"Day\",\n",
    "                    \"Venue\": \"Venue\",\n",
    "                    \"Result\": \"Result\",\n",
    "                    \"GF\": \"GF\",\n",
    "                    \"GA\": \"GA\",\n",
    "                    \"Opponent\": \"Opponent\",\n",
    "                    \"Gls\": \"Gls\",\n",
    "                    \"Sh\": \"Sh\",\n",
    "                    \"SoT\": \"SoT\",\n",
    "                    \"SoT%\": \"SoT%\",\n",
    "                    \"G/Sh\": \"G/Sh\",\n",
    "                    \"G/SoT\": \"G/SoT\",\n",
    "                    \"Dist\": \"Dist\",\n",
    "                    \"FK\": \"FK\",\n",
    "                    \"PK\": \"PK\",\n",
    "                    \"PKatt\": \"PKatt\",\n",
    "                }\n",
    "                df = df.rename(columns=column_mapping)\n",
    "\n",
    "                # Ensure all desired columns are present\n",
    "                for col in column_mapping.values():\n",
    "                    if col not in df.columns:\n",
    "                        df[col] = None  \n",
    "\n",
    "                df = df[list(column_mapping.values())]\n",
    "\n",
    "                # Filter for specific matchweeks\n",
    "                desired_rounds = [f\"Matchweek {i}\" for i in range(17, 23)]  # Matchweeks 17 to 22\n",
    "                if \"Round\" in df.columns:\n",
    "                    filtered_df = df[df[\"Round\"].isin(desired_rounds)]\n",
    "\n",
    "                    # Add team and season info\n",
    "                    filtered_df[\"Team\"] = team_name\n",
    "                    filtered_df[\"Season\"] = season\n",
    "\n",
    "                    # Append filtered data to the combined dataset\n",
    "                    all_data.append(filtered_df)\n",
    "\n",
    "            except ValueError as e:\n",
    "                print(f\"Error reading the table for {team_name}: {e}\")\n",
    "        else:\n",
    "            print(f\"Shooting table NOT found for {team_name} in {season}!\")\n",
    "\n",
    "# Combine all collected data into a single DataFrame\n",
    "if all_data:\n",
    "    combined_df = pd.concat(all_data, ignore_index=True)\n",
    "    print(\"All data combined successfully!\")\n",
    "\n",
    "    desired_columns = ['Team', 'Season', 'Date', 'Time', 'Round', 'Day', 'Venue', 'Result', 'GF', 'GA', 'Opponent', 'Gls', 'Sh', 'SoT', 'SoT%', 'G/Sh', 'G/SoT', 'Dist', 'FK', 'PK', 'PKatt']\n",
    "    combined_df = combined_df[desired_columns]\n",
    "    combined_df = combined_df.drop_duplicates()\n",
    "\n",
    "    combined_df.to_csv(\"la_liga_recent1.csv\", index=False)\n",
    "    print(\"Success.\")\n",
    "else:\n",
    "    print(\"Error\")"
   ]
  },
  {
   "cell_type": "code",
   "execution_count": null,
   "id": "9efbbc6c-9a24-4fc2-a982-d54139c95d31",
   "metadata": {},
   "outputs": [],
   "source": [
    "# Games for 24/25 season (la_liga_24_25.csv)\n",
    "import requests\n",
    "from bs4 import BeautifulSoup\n",
    "import pandas as pd\n",
    "import time\n",
    "\n",
    "# URL for La Liga 24/25 fixtures\n",
    "url = \"https://fbref.com/en/comps/12/2024-2025/schedule/2024-2025-La-Liga-Scores-and-Fixtures\"\n",
    "\n",
    "# Headers\n",
    "headers = {\n",
    "    \"User-Agent\": \"Mozilla/5.0 (Windows NT 10.0; Win64; x64) AppleWebKit/537.36 (KHTML, like Gecko) Chrome/114.0.0.0 Safari/537.36\"\n",
    "}\n",
    "\n",
    "# Request and parse the page\n",
    "response = requests.get(url, headers=headers)\n",
    "time.sleep(5)  # Avoid hitting rate limits\n",
    "soup = BeautifulSoup(response.text, \"html.parser\")\n",
    "\n",
    "# Locate the schedule table\n",
    "stats_table = soup.select_one('#sched_2024-2025_12_1')\n",
    "\n",
    "if stats_table:\n",
    "    print(\"Schedule table found!\")\n",
    "\n",
    "    # Extract and clean the table data\n",
    "    df = pd.read_html(str(stats_table))[0]\n",
    "    desired_columns = ['Wk', 'Day', 'Date', 'Time', 'Venue', 'Home', 'Away']\n",
    "    df = df[desired_columns].drop_duplicates()\n",
    "\n",
    "    # Save the data to a CSV file\n",
    "    df.to_csv(\"la_liga_24_25.csv\", index=False)\n",
    "    print(\"Success.\")\n",
    "else:\n",
    "    print(\"Error.\")"
   ]
  }
 ],
 "metadata": {
  "kernelspec": {
   "display_name": "Python 3 (ipykernel)",
   "language": "python",
   "name": "python3"
  },
  "language_info": {
   "codemirror_mode": {
    "name": "ipython",
    "version": 3
   },
   "file_extension": ".py",
   "mimetype": "text/x-python",
   "name": "python",
   "nbconvert_exporter": "python",
   "pygments_lexer": "ipython3",
   "version": "3.11.5"
  }
 },
 "nbformat": 4,
 "nbformat_minor": 5
}
