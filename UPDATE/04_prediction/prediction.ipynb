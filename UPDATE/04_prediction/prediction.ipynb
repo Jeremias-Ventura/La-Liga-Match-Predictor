{
 "cells": [
  {
   "cell_type": "code",
   "execution_count": 7,
   "id": "962b9fa1-9ae5-47b1-9116-e799a89f1d60",
   "metadata": {},
   "outputs": [
    {
     "name": "stdout",
     "output_type": "stream",
     "text": [
      "Success.\n"
     ]
    }
   ],
   "source": [
    "# Predict match results using trained model and predefined predictors\n",
    "\n",
    "import pandas as pd\n",
    "import joblib\n",
    "from pathlib import Path\n",
    "\n",
    "# Set Paths (Update these paths based on your directory structure)\n",
    "preprocessing_dir = Path(\"PATH/TO/02_preprocessing\")  # Replace with your actual path\n",
    "predictions_dir = Path(\"PATH/TO/03_training\")  # Replace with your actual path\n",
    "output_dir = Path(\"PATH/TO/04_prediction\")  # Replace with your actual path\n",
    "\n",
    "md23_scores_path = preprocessing_dir / \"md23.csv\"\n",
    "model_path = predictions_dir / \"match_predictor.pkl\"\n",
    "predictors_path = predictions_dir / \"predictors.pkl\"\n",
    "predictions_path = output_dir / \"md23_predictions.csv\"\n",
    "clean_predictions_path = output_dir / \"md23_predictions_final.csv\"\n",
    "\n",
    "# Load Model & Predictors\n",
    "model = joblib.load(model_path)\n",
    "predictors = joblib.load(predictors_path)\n",
    "\n",
    "md23_scores = pd.read_csv(md23_scores_path)\n",
    "\n",
    "missing_cols = [col for col in predictors if col not in md23_scores.columns]\n",
    "if missing_cols:\n",
    "    raise ValueError(f\"Missing columns in `md23_scores.csv`: {missing_cols}\")\n",
    "\n",
    "X_md23 = md23_scores[predictors]\n",
    "\n",
    "# Make Prediction\n",
    "md23_scores[\"Predicted Result\"] = model.predict(X_md23)\n",
    "\n",
    "md23_scores[\"Predicted Result\"] = md23_scores[\"Predicted Result\"].map({1: \"W\", 0: \"L\"})\n",
    "\n",
    "md23_scores.to_csv(predictions_path, index=False)\n",
    "\n",
    "# Save Predictions \n",
    "md23_predictions_clean = md23_scores[[\"Team\", \"Opponent\", \"Predicted Result\"]]\n",
    "md23_predictions_clean.to_csv(clean_predictions_path, index=False)\n",
    "\n",
    "print(\"Success.\")"
   ]
  },
  {
   "cell_type": "code",
   "execution_count": null,
   "id": "96f02264-7cdc-43cd-9e41-6cf621f73f4a",
   "metadata": {},
   "outputs": [],
   "source": []
  }
 ],
 "metadata": {
  "kernelspec": {
   "display_name": "Python 3 (ipykernel)",
   "language": "python",
   "name": "python3"
  },
  "language_info": {
   "codemirror_mode": {
    "name": "ipython",
    "version": 3
   },
   "file_extension": ".py",
   "mimetype": "text/x-python",
   "name": "python",
   "nbconvert_exporter": "python",
   "pygments_lexer": "ipython3",
   "version": "3.11.5"
  }
 },
 "nbformat": 4,
 "nbformat_minor": 5
}
